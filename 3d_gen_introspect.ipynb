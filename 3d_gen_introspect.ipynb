{
 "cells": [
  {
   "cell_type": "markdown",
   "id": "d07f7e6b",
   "metadata": {},
   "source": [
    "## Import & Setup\n",
    "\n",
    "Note, if you are getting errors like this:\n",
    "```\n",
    "...\n",
    "from .extension import *\n",
    "  File \".../isaacsim/extsUser/go4robo/go4robo_python/extension.py\", line 3, in <module>\n",
    "    import omni.ext\n",
    "ModuleNotFoundError: No module named 'omni'\n",
    "```\n",
    "\n",
    "Go into `isaacsim/extsUser/go4robo/go4robo_python/__init__.py` and comment out the following line:\n",
    "```\n",
    "from .extension import *\n",
    "```\n",
    "\n",
    "!! You need to uncomment this line if you plan to run the Isaac Sim extension !!"
   ]
  },
  {
   "cell_type": "code",
   "execution_count": 14,
   "id": "f0251585",
   "metadata": {},
   "outputs": [
    {
     "name": "stdout",
     "output_type": "stream",
     "text": [
      "The autoreload extension is already loaded. To reload it, use:\n",
      "  %reload_ext autoreload\n"
     ]
    },
    {
     "name": "stderr",
     "output_type": "stream",
     "text": [
      "2723.94s - pydevd: Sending message related to process being replaced timed-out after 5 seconds\n"
     ]
    },
    {
     "name": "stdout",
     "output_type": "stream",
     "text": [
      "Note: you may need to restart the kernel to use updated packages.\n"
     ]
    }
   ],
   "source": [
    "#Enable reloading because restarting the kernel is a pain\n",
    "%load_ext autoreload\n",
    "%autoreload 2\n",
    "\n",
    "%pip install -q usd-core\n",
    "\n",
    "import matplotlib.pyplot as plt\n",
    "import matplotlib.animation as animation\n",
    "from IPython.display import HTML\n",
    "\n",
    "import numpy as np\n",
    "\n",
    "from isaacsim.extsUser.go4robo.go4robo_python import bot_3d_problem as g4r_problem\n",
    "from isaacsim.extsUser.go4robo.go4robo_python import bot_3d_rep as g4r_rep\n",
    "\n",
    "import json\n",
    "\n",
    "import os, sys\n",
    "\n",
    "import copy\n",
    "\n",
    "from jupyter_dash import JupyterDash\n",
    "from dash import html, dcc, Input, Output\n",
    "import plotly.graph_objects as go\n",
    "import pandas as pd\n",
    "\n",
    "from tqdm.notebook import trange, tqdm"
   ]
  },
  {
   "cell_type": "markdown",
   "id": "d3c930e6",
   "metadata": {},
   "source": [
    "## Get the generated designs from csv"
   ]
  },
  {
   "cell_type": "code",
   "execution_count": 15,
   "id": "12ac41fa",
   "metadata": {},
   "outputs": [
    {
     "data": {
      "application/vnd.microsoft.datawrangler.viewer.v0+json": {
       "columns": [
        {
         "name": "index",
         "rawType": "int64",
         "type": "integer"
        },
        {
         "name": "Index",
         "rawType": "int64",
         "type": "integer"
        },
        {
         "name": "Name",
         "rawType": "object",
         "type": "string"
        },
        {
         "name": "Cost",
         "rawType": "float64",
         "type": "float"
        },
        {
         "name": "Perception Entropy",
         "rawType": "float64",
         "type": "float"
        },
        {
         "name": "Generation",
         "rawType": "int64",
         "type": "integer"
        },
        {
         "name": "s0_type",
         "rawType": "int64",
         "type": "integer"
        },
        {
         "name": "s0_x",
         "rawType": "float64",
         "type": "float"
        },
        {
         "name": "s0_y",
         "rawType": "float64",
         "type": "float"
        },
        {
         "name": "s0_z",
         "rawType": "float64",
         "type": "float"
        },
        {
         "name": "s0_qw",
         "rawType": "float64",
         "type": "float"
        },
        {
         "name": "s0_qx",
         "rawType": "float64",
         "type": "float"
        },
        {
         "name": "s0_qy",
         "rawType": "float64",
         "type": "float"
        },
        {
         "name": "s0_qz",
         "rawType": "float64",
         "type": "float"
        },
        {
         "name": "s1_type",
         "rawType": "int64",
         "type": "integer"
        },
        {
         "name": "s1_x",
         "rawType": "float64",
         "type": "float"
        },
        {
         "name": "s1_y",
         "rawType": "float64",
         "type": "float"
        },
        {
         "name": "s1_z",
         "rawType": "float64",
         "type": "float"
        },
        {
         "name": "s1_qw",
         "rawType": "float64",
         "type": "float"
        },
        {
         "name": "s1_qx",
         "rawType": "float64",
         "type": "float"
        },
        {
         "name": "s1_qy",
         "rawType": "float64",
         "type": "float"
        },
        {
         "name": "s1_qz",
         "rawType": "float64",
         "type": "float"
        },
        {
         "name": "s2_type",
         "rawType": "int64",
         "type": "integer"
        },
        {
         "name": "s2_x",
         "rawType": "float64",
         "type": "float"
        },
        {
         "name": "s2_y",
         "rawType": "float64",
         "type": "float"
        },
        {
         "name": "s2_z",
         "rawType": "float64",
         "type": "float"
        },
        {
         "name": "s2_qw",
         "rawType": "float64",
         "type": "float"
        },
        {
         "name": "s2_qx",
         "rawType": "float64",
         "type": "float"
        },
        {
         "name": "s2_qy",
         "rawType": "float64",
         "type": "float"
        },
        {
         "name": "s2_qz",
         "rawType": "float64",
         "type": "float"
        },
        {
         "name": "s3_type",
         "rawType": "int64",
         "type": "integer"
        },
        {
         "name": "s3_x",
         "rawType": "float64",
         "type": "float"
        },
        {
         "name": "s3_y",
         "rawType": "float64",
         "type": "float"
        },
        {
         "name": "s3_z",
         "rawType": "float64",
         "type": "float"
        },
        {
         "name": "s3_qw",
         "rawType": "float64",
         "type": "float"
        },
        {
         "name": "s3_qx",
         "rawType": "float64",
         "type": "float"
        },
        {
         "name": "s3_qy",
         "rawType": "float64",
         "type": "float"
        },
        {
         "name": "s3_qz",
         "rawType": "float64",
         "type": "float"
        },
        {
         "name": "s4_type",
         "rawType": "int64",
         "type": "integer"
        },
        {
         "name": "s4_x",
         "rawType": "float64",
         "type": "float"
        },
        {
         "name": "s4_y",
         "rawType": "float64",
         "type": "float"
        },
        {
         "name": "s4_z",
         "rawType": "float64",
         "type": "float"
        },
        {
         "name": "s4_qw",
         "rawType": "float64",
         "type": "float"
        },
        {
         "name": "s4_qx",
         "rawType": "float64",
         "type": "float"
        },
        {
         "name": "s4_qy",
         "rawType": "float64",
         "type": "float"
        },
        {
         "name": "s4_qz",
         "rawType": "float64",
         "type": "float"
        }
       ],
       "conversionMethod": "pd.DataFrame",
       "ref": "eb667ff9-5aad-4dc4-a7e5-de8c98fa30c1",
       "rows": [
        [
         "0",
         "0",
         "Prior Design",
         "5.0",
         "2.419967160926951",
         "0",
         "2",
         "0.1",
         "0.2",
         "0.3",
         "6.123233995736766e-17",
         "0.0",
         "0.0",
         "1.0",
         "2",
         "0.0",
         "0.0",
         "1.0",
         "6.123233995736766e-17",
         "0.1305261922200515",
         "7.832796718715562e-18",
         "0.9914448613738104",
         "1",
         "0.2",
         "0.3",
         "0.4",
         "1.0",
         "0.0",
         "0.0",
         "0.0",
         "0",
         "0.0",
         "0.0",
         "0.0",
         "0.0",
         "0.0",
         "0.0",
         "0.0",
         "0",
         "0.0",
         "0.0",
         "0.0",
         "0.0",
         "0.0",
         "0.0",
         "0.0"
        ],
        [
         "1",
         "1",
         "Design 1",
         "3.0",
         "-0.8079042897509486",
         "1",
         "1",
         "1.6014891373510731",
         "0.9682615757193976",
         "0.3134241781592428",
         "0.2412116527557373",
         "-0.7116709351539612",
         "-0.1034439280629158",
         "0.6516446471214294",
         "2",
         "1.3846452313386282",
         "0.8763891522960383",
         "0.8946066635038473",
         "-0.8838563561439514",
         "-0.3935263454914093",
         "-0.2027115523815155",
         "-0.1511393338441848",
         "0",
         "0.0",
         "0.0",
         "0.0",
         "0.0",
         "0.0",
         "0.0",
         "0.0",
         "0",
         "0.0",
         "0.0",
         "0.0",
         "0.0",
         "0.0",
         "0.0",
         "0.0",
         "0",
         "0.0",
         "0.0",
         "0.0",
         "0.0",
         "0.0",
         "0.0",
         "0.0"
        ],
        [
         "2",
         "2",
         "Design 2",
         "3.0",
         "3.188194031661837",
         "1",
         "1",
         "0.6310312620121259",
         "0.6865009276815837",
         "0.8346256718973729",
         "0.7811300158500671",
         "0.4106971621513366",
         "-0.2885539531707763",
         "-0.3713494539260864",
         "1",
         "0.0365765546883836",
         "0.7501443149449675",
         "0.9888610889064948",
         "0.0779479444026947",
         "-0.6020587682723999",
         "0.7946155667304993",
         "-0.0059527959674596",
         "1",
         "1.4963313087596788",
         "0.2804439920644052",
         "0.7892793284514885",
         "-0.2318876981735229",
         "0.2130206525325775",
         "0.5968999862670898",
         "0.7379435300827026",
         "0",
         "0.0",
         "0.0",
         "0.0",
         "0.0",
         "0.0",
         "0.0",
         "0.0",
         "0",
         "0.0",
         "0.0",
         "0.0",
         "0.0",
         "0.0",
         "0.0",
         "0.0"
        ],
        [
         "3",
         "3",
         "Design 3",
         "5.0",
         "2.4778617873030173",
         "1",
         "1",
         "0.0387339157405941",
         "0.678835532939891",
         "0.211628116000059",
         "0.0778698921203613",
         "0.8896186351776123",
         "-0.3082852959632873",
         "-0.3278340399265289",
         "2",
         "0.5310933187444524",
         "0.4915731592803383",
         "0.0533625451170803",
         "0.5505295395851135",
         "-0.112007662653923",
         "0.8058155179023743",
         "0.1871708780527115",
         "2",
         "1.148235210984026",
         "0.1467285749058101",
         "0.5893055369032842",
         "-0.4168312847614288",
         "-0.5999095439910889",
         "-0.2596375942230224",
         "-0.6316236853599548",
         "0",
         "0.0",
         "0.0",
         "0.0",
         "0.0",
         "0.0",
         "0.0",
         "0.0",
         "0",
         "0.0",
         "0.0",
         "0.0",
         "0.0",
         "0.0",
         "0.0",
         "0.0"
        ],
        [
         "4",
         "4",
         "Design 4",
         "4.0",
         "-2.829793168104238",
         "1",
         "2",
         "1.0717928118310232",
         "0.6637946452197888",
         "0.5148891120583086",
         "-0.4537928700447082",
         "0.2205186337232589",
         "0.2936241924762726",
         "-0.8119288682937622",
         "1",
         "1.8891895119816269",
         "0.5865550405019929",
         "0.9034019152878836",
         "0.7831249237060547",
         "-0.0951051786541938",
         "0.4954024851322174",
         "-0.363657534122467",
         "1",
         "0.274949408292475",
         "0.1392763472507585",
         "0.8073912887095238",
         "0.7651554346084595",
         "0.1584720611572265",
         "0.2187520265579223",
         "-0.5844410061836243",
         "0",
         "0.0",
         "0.0",
         "0.0",
         "0.0",
         "0.0",
         "0.0",
         "0.0",
         "0",
         "0.0",
         "0.0",
         "0.0",
         "0.0",
         "0.0",
         "0.0",
         "0.0"
        ],
        [
         "5",
         "5",
         "Design 5",
         "3.0",
         "-0.8079042897509486",
         "2",
         "1",
         "1.6014891373510731",
         "0.9682615757193976",
         "0.3134241781592428",
         "0.2412116527557373",
         "-0.7116709351539612",
         "-0.1034439280629158",
         "0.6516446471214294",
         "2",
         "1.3846452313386282",
         "0.8763891522960383",
         "0.8946066635038473",
         "-0.8838563561439514",
         "-0.3935263454914093",
         "-0.2027115523815155",
         "-0.1511393338441848",
         "0",
         "0.0",
         "0.0",
         "0.0",
         "0.0",
         "0.0",
         "0.0",
         "0.0",
         "0",
         "0.0",
         "0.0",
         "0.0",
         "0.0",
         "0.0",
         "0.0",
         "0.0",
         "0",
         "0.0",
         "0.0",
         "0.0",
         "0.0",
         "0.0",
         "0.0",
         "0.0"
        ],
        [
         "6",
         "6",
         "Design 6",
         "4.0",
         "-2.829793168104238",
         "2",
         "2",
         "1.0717928118310232",
         "0.6637946452197888",
         "0.5148891120583086",
         "-0.4537928700447082",
         "0.2205186337232589",
         "0.2936241924762726",
         "-0.8119288682937622",
         "1",
         "1.8891895119816269",
         "0.5865550405019929",
         "0.9034019152878836",
         "0.7831249237060547",
         "-0.0951051786541938",
         "0.4954024851322174",
         "-0.363657534122467",
         "1",
         "0.274949408292475",
         "0.1392763472507585",
         "0.8073912887095238",
         "0.7651554346084595",
         "0.1584720611572265",
         "0.2187520265579223",
         "-0.5844410061836243",
         "0",
         "0.0",
         "0.0",
         "0.0",
         "0.0",
         "0.0",
         "0.0",
         "0.0",
         "0",
         "0.0",
         "0.0",
         "0.0",
         "0.0",
         "0.0",
         "0.0",
         "0.0"
        ],
        [
         "7",
         "7",
         "Design 7",
         "3.0",
         "3.188194031661837",
         "2",
         "1",
         "0.6310312620121259",
         "0.6865009276815837",
         "0.8346256718973729",
         "0.7811300158500671",
         "0.4106971621513366",
         "-0.2885539531707763",
         "-0.3713494539260864",
         "1",
         "0.0365765546883836",
         "0.7501443149449675",
         "0.9888610889064948",
         "0.0779479444026947",
         "-0.6020587682723999",
         "0.7946155667304993",
         "-0.0059527959674596",
         "1",
         "1.4963313087596788",
         "0.2804439920644052",
         "0.7892793284514885",
         "-0.2318876981735229",
         "0.2130206525325775",
         "0.5968999862670898",
         "0.7379435300827026",
         "0",
         "0.0",
         "0.0",
         "0.0",
         "0.0",
         "0.0",
         "0.0",
         "0.0",
         "0",
         "0.0",
         "0.0",
         "0.0",
         "0.0",
         "0.0",
         "0.0",
         "0.0"
        ],
        [
         "8",
         "8",
         "Design 8",
         "5.0",
         "1.5901097278369902",
         "2",
         "1",
         "0.6251085467060256",
         "0.678835532939891",
         "0.211628116000059",
         "0.0998421087861061",
         "0.8949810266494751",
         "-0.2990965247154236",
         "-0.3155657649040222",
         "2",
         "0.0263262979638073",
         "0.752301980119063",
         "0.0533625451170803",
         "0.4542871415615082",
         "-0.5364395976066589",
         "0.7112334966659546",
         "0.0016363561153411",
         "2",
         "1.0",
         "0.1480780134579209",
         "0.5893055369032842",
         "-0.260817140340805",
         "-0.6142807602882385",
         "-0.2537878453731537",
         "-0.7001609206199646",
         "0",
         "0.0",
         "0.0",
         "0.0",
         "0.0",
         "0.0",
         "0.0",
         "0.0",
         "0",
         "0.0",
         "0.0",
         "0.0",
         "0.0",
         "0.0",
         "0.0",
         "0.0"
        ]
       ],
       "shape": {
        "columns": 45,
        "rows": 9
       }
      },
      "text/html": [
       "<div>\n",
       "<style scoped>\n",
       "    .dataframe tbody tr th:only-of-type {\n",
       "        vertical-align: middle;\n",
       "    }\n",
       "\n",
       "    .dataframe tbody tr th {\n",
       "        vertical-align: top;\n",
       "    }\n",
       "\n",
       "    .dataframe thead th {\n",
       "        text-align: right;\n",
       "    }\n",
       "</style>\n",
       "<table border=\"1\" class=\"dataframe\">\n",
       "  <thead>\n",
       "    <tr style=\"text-align: right;\">\n",
       "      <th></th>\n",
       "      <th>Index</th>\n",
       "      <th>Name</th>\n",
       "      <th>Cost</th>\n",
       "      <th>Perception Entropy</th>\n",
       "      <th>Generation</th>\n",
       "      <th>s0_type</th>\n",
       "      <th>s0_x</th>\n",
       "      <th>s0_y</th>\n",
       "      <th>s0_z</th>\n",
       "      <th>s0_qw</th>\n",
       "      <th>...</th>\n",
       "      <th>s3_qy</th>\n",
       "      <th>s3_qz</th>\n",
       "      <th>s4_type</th>\n",
       "      <th>s4_x</th>\n",
       "      <th>s4_y</th>\n",
       "      <th>s4_z</th>\n",
       "      <th>s4_qw</th>\n",
       "      <th>s4_qx</th>\n",
       "      <th>s4_qy</th>\n",
       "      <th>s4_qz</th>\n",
       "    </tr>\n",
       "  </thead>\n",
       "  <tbody>\n",
       "    <tr>\n",
       "      <th>0</th>\n",
       "      <td>0</td>\n",
       "      <td>Prior Design</td>\n",
       "      <td>5.0</td>\n",
       "      <td>2.419967</td>\n",
       "      <td>0</td>\n",
       "      <td>2</td>\n",
       "      <td>0.100000</td>\n",
       "      <td>0.200000</td>\n",
       "      <td>0.300000</td>\n",
       "      <td>6.123234e-17</td>\n",
       "      <td>...</td>\n",
       "      <td>0.0</td>\n",
       "      <td>0.0</td>\n",
       "      <td>0</td>\n",
       "      <td>0.0</td>\n",
       "      <td>0.0</td>\n",
       "      <td>0.0</td>\n",
       "      <td>0.0</td>\n",
       "      <td>0.0</td>\n",
       "      <td>0.0</td>\n",
       "      <td>0.0</td>\n",
       "    </tr>\n",
       "    <tr>\n",
       "      <th>1</th>\n",
       "      <td>1</td>\n",
       "      <td>Design 1</td>\n",
       "      <td>3.0</td>\n",
       "      <td>-0.807904</td>\n",
       "      <td>1</td>\n",
       "      <td>1</td>\n",
       "      <td>1.601489</td>\n",
       "      <td>0.968262</td>\n",
       "      <td>0.313424</td>\n",
       "      <td>2.412117e-01</td>\n",
       "      <td>...</td>\n",
       "      <td>0.0</td>\n",
       "      <td>0.0</td>\n",
       "      <td>0</td>\n",
       "      <td>0.0</td>\n",
       "      <td>0.0</td>\n",
       "      <td>0.0</td>\n",
       "      <td>0.0</td>\n",
       "      <td>0.0</td>\n",
       "      <td>0.0</td>\n",
       "      <td>0.0</td>\n",
       "    </tr>\n",
       "    <tr>\n",
       "      <th>2</th>\n",
       "      <td>2</td>\n",
       "      <td>Design 2</td>\n",
       "      <td>3.0</td>\n",
       "      <td>3.188194</td>\n",
       "      <td>1</td>\n",
       "      <td>1</td>\n",
       "      <td>0.631031</td>\n",
       "      <td>0.686501</td>\n",
       "      <td>0.834626</td>\n",
       "      <td>7.811300e-01</td>\n",
       "      <td>...</td>\n",
       "      <td>0.0</td>\n",
       "      <td>0.0</td>\n",
       "      <td>0</td>\n",
       "      <td>0.0</td>\n",
       "      <td>0.0</td>\n",
       "      <td>0.0</td>\n",
       "      <td>0.0</td>\n",
       "      <td>0.0</td>\n",
       "      <td>0.0</td>\n",
       "      <td>0.0</td>\n",
       "    </tr>\n",
       "    <tr>\n",
       "      <th>3</th>\n",
       "      <td>3</td>\n",
       "      <td>Design 3</td>\n",
       "      <td>5.0</td>\n",
       "      <td>2.477862</td>\n",
       "      <td>1</td>\n",
       "      <td>1</td>\n",
       "      <td>0.038734</td>\n",
       "      <td>0.678836</td>\n",
       "      <td>0.211628</td>\n",
       "      <td>7.786989e-02</td>\n",
       "      <td>...</td>\n",
       "      <td>0.0</td>\n",
       "      <td>0.0</td>\n",
       "      <td>0</td>\n",
       "      <td>0.0</td>\n",
       "      <td>0.0</td>\n",
       "      <td>0.0</td>\n",
       "      <td>0.0</td>\n",
       "      <td>0.0</td>\n",
       "      <td>0.0</td>\n",
       "      <td>0.0</td>\n",
       "    </tr>\n",
       "    <tr>\n",
       "      <th>4</th>\n",
       "      <td>4</td>\n",
       "      <td>Design 4</td>\n",
       "      <td>4.0</td>\n",
       "      <td>-2.829793</td>\n",
       "      <td>1</td>\n",
       "      <td>2</td>\n",
       "      <td>1.071793</td>\n",
       "      <td>0.663795</td>\n",
       "      <td>0.514889</td>\n",
       "      <td>-4.537929e-01</td>\n",
       "      <td>...</td>\n",
       "      <td>0.0</td>\n",
       "      <td>0.0</td>\n",
       "      <td>0</td>\n",
       "      <td>0.0</td>\n",
       "      <td>0.0</td>\n",
       "      <td>0.0</td>\n",
       "      <td>0.0</td>\n",
       "      <td>0.0</td>\n",
       "      <td>0.0</td>\n",
       "      <td>0.0</td>\n",
       "    </tr>\n",
       "    <tr>\n",
       "      <th>5</th>\n",
       "      <td>5</td>\n",
       "      <td>Design 5</td>\n",
       "      <td>3.0</td>\n",
       "      <td>-0.807904</td>\n",
       "      <td>2</td>\n",
       "      <td>1</td>\n",
       "      <td>1.601489</td>\n",
       "      <td>0.968262</td>\n",
       "      <td>0.313424</td>\n",
       "      <td>2.412117e-01</td>\n",
       "      <td>...</td>\n",
       "      <td>0.0</td>\n",
       "      <td>0.0</td>\n",
       "      <td>0</td>\n",
       "      <td>0.0</td>\n",
       "      <td>0.0</td>\n",
       "      <td>0.0</td>\n",
       "      <td>0.0</td>\n",
       "      <td>0.0</td>\n",
       "      <td>0.0</td>\n",
       "      <td>0.0</td>\n",
       "    </tr>\n",
       "    <tr>\n",
       "      <th>6</th>\n",
       "      <td>6</td>\n",
       "      <td>Design 6</td>\n",
       "      <td>4.0</td>\n",
       "      <td>-2.829793</td>\n",
       "      <td>2</td>\n",
       "      <td>2</td>\n",
       "      <td>1.071793</td>\n",
       "      <td>0.663795</td>\n",
       "      <td>0.514889</td>\n",
       "      <td>-4.537929e-01</td>\n",
       "      <td>...</td>\n",
       "      <td>0.0</td>\n",
       "      <td>0.0</td>\n",
       "      <td>0</td>\n",
       "      <td>0.0</td>\n",
       "      <td>0.0</td>\n",
       "      <td>0.0</td>\n",
       "      <td>0.0</td>\n",
       "      <td>0.0</td>\n",
       "      <td>0.0</td>\n",
       "      <td>0.0</td>\n",
       "    </tr>\n",
       "    <tr>\n",
       "      <th>7</th>\n",
       "      <td>7</td>\n",
       "      <td>Design 7</td>\n",
       "      <td>3.0</td>\n",
       "      <td>3.188194</td>\n",
       "      <td>2</td>\n",
       "      <td>1</td>\n",
       "      <td>0.631031</td>\n",
       "      <td>0.686501</td>\n",
       "      <td>0.834626</td>\n",
       "      <td>7.811300e-01</td>\n",
       "      <td>...</td>\n",
       "      <td>0.0</td>\n",
       "      <td>0.0</td>\n",
       "      <td>0</td>\n",
       "      <td>0.0</td>\n",
       "      <td>0.0</td>\n",
       "      <td>0.0</td>\n",
       "      <td>0.0</td>\n",
       "      <td>0.0</td>\n",
       "      <td>0.0</td>\n",
       "      <td>0.0</td>\n",
       "    </tr>\n",
       "    <tr>\n",
       "      <th>8</th>\n",
       "      <td>8</td>\n",
       "      <td>Design 8</td>\n",
       "      <td>5.0</td>\n",
       "      <td>1.590110</td>\n",
       "      <td>2</td>\n",
       "      <td>1</td>\n",
       "      <td>0.625109</td>\n",
       "      <td>0.678836</td>\n",
       "      <td>0.211628</td>\n",
       "      <td>9.984211e-02</td>\n",
       "      <td>...</td>\n",
       "      <td>0.0</td>\n",
       "      <td>0.0</td>\n",
       "      <td>0</td>\n",
       "      <td>0.0</td>\n",
       "      <td>0.0</td>\n",
       "      <td>0.0</td>\n",
       "      <td>0.0</td>\n",
       "      <td>0.0</td>\n",
       "      <td>0.0</td>\n",
       "      <td>0.0</td>\n",
       "    </tr>\n",
       "  </tbody>\n",
       "</table>\n",
       "<p>9 rows × 45 columns</p>\n",
       "</div>"
      ],
      "text/plain": [
       "   Index          Name  Cost  Perception Entropy  Generation  s0_type  \\\n",
       "0      0  Prior Design   5.0            2.419967           0        2   \n",
       "1      1      Design 1   3.0           -0.807904           1        1   \n",
       "2      2      Design 2   3.0            3.188194           1        1   \n",
       "3      3      Design 3   5.0            2.477862           1        1   \n",
       "4      4      Design 4   4.0           -2.829793           1        2   \n",
       "5      5      Design 5   3.0           -0.807904           2        1   \n",
       "6      6      Design 6   4.0           -2.829793           2        2   \n",
       "7      7      Design 7   3.0            3.188194           2        1   \n",
       "8      8      Design 8   5.0            1.590110           2        1   \n",
       "\n",
       "       s0_x      s0_y      s0_z         s0_qw  ...  s3_qy  s3_qz  s4_type  \\\n",
       "0  0.100000  0.200000  0.300000  6.123234e-17  ...    0.0    0.0        0   \n",
       "1  1.601489  0.968262  0.313424  2.412117e-01  ...    0.0    0.0        0   \n",
       "2  0.631031  0.686501  0.834626  7.811300e-01  ...    0.0    0.0        0   \n",
       "3  0.038734  0.678836  0.211628  7.786989e-02  ...    0.0    0.0        0   \n",
       "4  1.071793  0.663795  0.514889 -4.537929e-01  ...    0.0    0.0        0   \n",
       "5  1.601489  0.968262  0.313424  2.412117e-01  ...    0.0    0.0        0   \n",
       "6  1.071793  0.663795  0.514889 -4.537929e-01  ...    0.0    0.0        0   \n",
       "7  0.631031  0.686501  0.834626  7.811300e-01  ...    0.0    0.0        0   \n",
       "8  0.625109  0.678836  0.211628  9.984211e-02  ...    0.0    0.0        0   \n",
       "\n",
       "   s4_x  s4_y  s4_z  s4_qw  s4_qx  s4_qy  s4_qz  \n",
       "0   0.0   0.0   0.0    0.0    0.0    0.0    0.0  \n",
       "1   0.0   0.0   0.0    0.0    0.0    0.0    0.0  \n",
       "2   0.0   0.0   0.0    0.0    0.0    0.0    0.0  \n",
       "3   0.0   0.0   0.0    0.0    0.0    0.0    0.0  \n",
       "4   0.0   0.0   0.0    0.0    0.0    0.0    0.0  \n",
       "5   0.0   0.0   0.0    0.0    0.0    0.0    0.0  \n",
       "6   0.0   0.0   0.0    0.0    0.0    0.0    0.0  \n",
       "7   0.0   0.0   0.0    0.0    0.0    0.0    0.0  \n",
       "8   0.0   0.0   0.0    0.0    0.0    0.0    0.0  \n",
       "\n",
       "[9 rows x 45 columns]"
      ]
     },
     "execution_count": 15,
     "metadata": {},
     "output_type": "execute_result"
    }
   ],
   "source": [
    "df_csv_path = \"/Users/robosquiggles/Downloads/designs_Robot_20250429_185333.csv\" # This should also contain the prior design at index 0\n",
    "\n",
    "df = pd.read_csv(df_csv_path)\n",
    "df"
   ]
  },
  {
   "cell_type": "markdown",
   "id": "c531211c",
   "metadata": {},
   "source": [
    "## Plot the tradespace\n",
    "\n",
    "Conveniently you can do this without the Problem definition, assuming you used the standard problem definition."
   ]
  },
  {
   "cell_type": "code",
   "execution_count": 17,
   "id": "925e7e26",
   "metadata": {},
   "outputs": [
    {
     "data": {
      "application/vnd.plotly.v1+json": {
       "config": {
        "plotlyServerURL": "https://plot.ly"
       },
       "data": [
        {
         "customdata": [
          [
           "Design 1"
          ],
          [
           "Design 2"
          ],
          [
           "Design 3"
          ],
          [
           "Design 4"
          ],
          [
           "Design 5"
          ],
          [
           "Design 6"
          ],
          [
           "Design 7"
          ],
          [
           "Design 8"
          ]
         ],
         "hovertemplate": "%{customdata[0]}<br>Cost [$]: %{x:.2f}<br>Perception Entropy [-]: %{y:.2f} ",
         "hovertext": [
          "Design 1",
          "Design 2",
          "Design 3",
          "Design 4",
          "Design 5",
          "Design 6",
          "Design 7",
          "Design 8"
         ],
         "legendgroup": "",
         "marker": {
          "color": "#1276a4",
          "opacity": 0.9,
          "size": 6.666666666666666,
          "symbol": "circle"
         },
         "mode": "markers",
         "name": "",
         "orientation": "v",
         "showlegend": false,
         "type": "scatter",
         "x": [
          3,
          3,
          5,
          4,
          3,
          4,
          3,
          5
         ],
         "xaxis": "x",
         "y": [
          -0.8079042897509486,
          3.188194031661837,
          2.4778617873030173,
          -2.829793168104238,
          -0.8079042897509486,
          -2.829793168104238,
          3.188194031661837,
          1.5901097278369902
         ],
         "yaxis": "y"
        },
        {
         "customdata": [
          "Name"
         ],
         "hoverinfo": "text",
         "hovertemplate": "%{customdata[0]}<br>Cost [$]: %{x:.2f}<br>Perception Entropy [-]: %{y:.2f} ",
         "marker": {
          "color": "#dd6b00",
          "size": 6.666666666666666,
          "symbol": "square"
         },
         "mode": "markers",
         "name": "Prior Design",
         "opacity": 0.9,
         "text": [
          "Prior Design"
         ],
         "type": "scatter",
         "x": [
          5
         ],
         "y": [
          2.419967160926951
         ]
        },
        {
         "hoverinfo": "none",
         "marker": {
          "color": "gold",
          "size": 16,
          "symbol": "star"
         },
         "mode": "markers",
         "name": "Ideal",
         "type": "scatter",
         "x": [
          3
         ],
         "y": [
          -2.829793168104238
         ]
        },
        {
         "hoverinfo": "none",
         "line": {
          "color": "orange",
          "width": 1.3333333333333333
         },
         "marker": {
          "color": "orange",
          "size": 13.333333333333332,
          "symbol": "circle-open"
         },
         "mode": "lines+markers",
         "name": "Pareto Front",
         "type": "scatter",
         "x": [
          3,
          4,
          3,
          4
         ],
         "y": [
          -0.8079042897509486,
          -2.829793168104238,
          -0.8079042897509486,
          -2.829793168104238
         ]
        }
       ],
       "layout": {
        "clickmode": "event+select",
        "height": 800,
        "hovermode": "closest",
        "legend": {
         "tracegroupgap": 0,
         "x": 1,
         "xanchor": "right",
         "y": 0,
         "yanchor": "top"
        },
        "template": {
         "data": {
          "bar": [
           {
            "error_x": {
             "color": "#2a3f5f"
            },
            "error_y": {
             "color": "#2a3f5f"
            },
            "marker": {
             "line": {
              "color": "white",
              "width": 0.5
             },
             "pattern": {
              "fillmode": "overlay",
              "size": 10,
              "solidity": 0.2
             }
            },
            "type": "bar"
           }
          ],
          "barpolar": [
           {
            "marker": {
             "line": {
              "color": "white",
              "width": 0.5
             },
             "pattern": {
              "fillmode": "overlay",
              "size": 10,
              "solidity": 0.2
             }
            },
            "type": "barpolar"
           }
          ],
          "carpet": [
           {
            "aaxis": {
             "endlinecolor": "#2a3f5f",
             "gridcolor": "#C8D4E3",
             "linecolor": "#C8D4E3",
             "minorgridcolor": "#C8D4E3",
             "startlinecolor": "#2a3f5f"
            },
            "baxis": {
             "endlinecolor": "#2a3f5f",
             "gridcolor": "#C8D4E3",
             "linecolor": "#C8D4E3",
             "minorgridcolor": "#C8D4E3",
             "startlinecolor": "#2a3f5f"
            },
            "type": "carpet"
           }
          ],
          "choropleth": [
           {
            "colorbar": {
             "outlinewidth": 0,
             "ticks": ""
            },
            "type": "choropleth"
           }
          ],
          "contour": [
           {
            "colorbar": {
             "outlinewidth": 0,
             "ticks": ""
            },
            "colorscale": [
             [
              0,
              "#0d0887"
             ],
             [
              0.1111111111111111,
              "#46039f"
             ],
             [
              0.2222222222222222,
              "#7201a8"
             ],
             [
              0.3333333333333333,
              "#9c179e"
             ],
             [
              0.4444444444444444,
              "#bd3786"
             ],
             [
              0.5555555555555556,
              "#d8576b"
             ],
             [
              0.6666666666666666,
              "#ed7953"
             ],
             [
              0.7777777777777778,
              "#fb9f3a"
             ],
             [
              0.8888888888888888,
              "#fdca26"
             ],
             [
              1,
              "#f0f921"
             ]
            ],
            "type": "contour"
           }
          ],
          "contourcarpet": [
           {
            "colorbar": {
             "outlinewidth": 0,
             "ticks": ""
            },
            "type": "contourcarpet"
           }
          ],
          "heatmap": [
           {
            "colorbar": {
             "outlinewidth": 0,
             "ticks": ""
            },
            "colorscale": [
             [
              0,
              "#0d0887"
             ],
             [
              0.1111111111111111,
              "#46039f"
             ],
             [
              0.2222222222222222,
              "#7201a8"
             ],
             [
              0.3333333333333333,
              "#9c179e"
             ],
             [
              0.4444444444444444,
              "#bd3786"
             ],
             [
              0.5555555555555556,
              "#d8576b"
             ],
             [
              0.6666666666666666,
              "#ed7953"
             ],
             [
              0.7777777777777778,
              "#fb9f3a"
             ],
             [
              0.8888888888888888,
              "#fdca26"
             ],
             [
              1,
              "#f0f921"
             ]
            ],
            "type": "heatmap"
           }
          ],
          "heatmapgl": [
           {
            "colorbar": {
             "outlinewidth": 0,
             "ticks": ""
            },
            "colorscale": [
             [
              0,
              "#0d0887"
             ],
             [
              0.1111111111111111,
              "#46039f"
             ],
             [
              0.2222222222222222,
              "#7201a8"
             ],
             [
              0.3333333333333333,
              "#9c179e"
             ],
             [
              0.4444444444444444,
              "#bd3786"
             ],
             [
              0.5555555555555556,
              "#d8576b"
             ],
             [
              0.6666666666666666,
              "#ed7953"
             ],
             [
              0.7777777777777778,
              "#fb9f3a"
             ],
             [
              0.8888888888888888,
              "#fdca26"
             ],
             [
              1,
              "#f0f921"
             ]
            ],
            "type": "heatmapgl"
           }
          ],
          "histogram": [
           {
            "marker": {
             "pattern": {
              "fillmode": "overlay",
              "size": 10,
              "solidity": 0.2
             }
            },
            "type": "histogram"
           }
          ],
          "histogram2d": [
           {
            "colorbar": {
             "outlinewidth": 0,
             "ticks": ""
            },
            "colorscale": [
             [
              0,
              "#0d0887"
             ],
             [
              0.1111111111111111,
              "#46039f"
             ],
             [
              0.2222222222222222,
              "#7201a8"
             ],
             [
              0.3333333333333333,
              "#9c179e"
             ],
             [
              0.4444444444444444,
              "#bd3786"
             ],
             [
              0.5555555555555556,
              "#d8576b"
             ],
             [
              0.6666666666666666,
              "#ed7953"
             ],
             [
              0.7777777777777778,
              "#fb9f3a"
             ],
             [
              0.8888888888888888,
              "#fdca26"
             ],
             [
              1,
              "#f0f921"
             ]
            ],
            "type": "histogram2d"
           }
          ],
          "histogram2dcontour": [
           {
            "colorbar": {
             "outlinewidth": 0,
             "ticks": ""
            },
            "colorscale": [
             [
              0,
              "#0d0887"
             ],
             [
              0.1111111111111111,
              "#46039f"
             ],
             [
              0.2222222222222222,
              "#7201a8"
             ],
             [
              0.3333333333333333,
              "#9c179e"
             ],
             [
              0.4444444444444444,
              "#bd3786"
             ],
             [
              0.5555555555555556,
              "#d8576b"
             ],
             [
              0.6666666666666666,
              "#ed7953"
             ],
             [
              0.7777777777777778,
              "#fb9f3a"
             ],
             [
              0.8888888888888888,
              "#fdca26"
             ],
             [
              1,
              "#f0f921"
             ]
            ],
            "type": "histogram2dcontour"
           }
          ],
          "mesh3d": [
           {
            "colorbar": {
             "outlinewidth": 0,
             "ticks": ""
            },
            "type": "mesh3d"
           }
          ],
          "parcoords": [
           {
            "line": {
             "colorbar": {
              "outlinewidth": 0,
              "ticks": ""
             }
            },
            "type": "parcoords"
           }
          ],
          "pie": [
           {
            "automargin": true,
            "type": "pie"
           }
          ],
          "scatter": [
           {
            "fillpattern": {
             "fillmode": "overlay",
             "size": 10,
             "solidity": 0.2
            },
            "type": "scatter"
           }
          ],
          "scatter3d": [
           {
            "line": {
             "colorbar": {
              "outlinewidth": 0,
              "ticks": ""
             }
            },
            "marker": {
             "colorbar": {
              "outlinewidth": 0,
              "ticks": ""
             }
            },
            "type": "scatter3d"
           }
          ],
          "scattercarpet": [
           {
            "marker": {
             "colorbar": {
              "outlinewidth": 0,
              "ticks": ""
             }
            },
            "type": "scattercarpet"
           }
          ],
          "scattergeo": [
           {
            "marker": {
             "colorbar": {
              "outlinewidth": 0,
              "ticks": ""
             }
            },
            "type": "scattergeo"
           }
          ],
          "scattergl": [
           {
            "marker": {
             "colorbar": {
              "outlinewidth": 0,
              "ticks": ""
             }
            },
            "type": "scattergl"
           }
          ],
          "scattermapbox": [
           {
            "marker": {
             "colorbar": {
              "outlinewidth": 0,
              "ticks": ""
             }
            },
            "type": "scattermapbox"
           }
          ],
          "scatterpolar": [
           {
            "marker": {
             "colorbar": {
              "outlinewidth": 0,
              "ticks": ""
             }
            },
            "type": "scatterpolar"
           }
          ],
          "scatterpolargl": [
           {
            "marker": {
             "colorbar": {
              "outlinewidth": 0,
              "ticks": ""
             }
            },
            "type": "scatterpolargl"
           }
          ],
          "scatterternary": [
           {
            "marker": {
             "colorbar": {
              "outlinewidth": 0,
              "ticks": ""
             }
            },
            "type": "scatterternary"
           }
          ],
          "surface": [
           {
            "colorbar": {
             "outlinewidth": 0,
             "ticks": ""
            },
            "colorscale": [
             [
              0,
              "#0d0887"
             ],
             [
              0.1111111111111111,
              "#46039f"
             ],
             [
              0.2222222222222222,
              "#7201a8"
             ],
             [
              0.3333333333333333,
              "#9c179e"
             ],
             [
              0.4444444444444444,
              "#bd3786"
             ],
             [
              0.5555555555555556,
              "#d8576b"
             ],
             [
              0.6666666666666666,
              "#ed7953"
             ],
             [
              0.7777777777777778,
              "#fb9f3a"
             ],
             [
              0.8888888888888888,
              "#fdca26"
             ],
             [
              1,
              "#f0f921"
             ]
            ],
            "type": "surface"
           }
          ],
          "table": [
           {
            "cells": {
             "fill": {
              "color": "#EBF0F8"
             },
             "line": {
              "color": "white"
             }
            },
            "header": {
             "fill": {
              "color": "#C8D4E3"
             },
             "line": {
              "color": "white"
             }
            },
            "type": "table"
           }
          ]
         },
         "layout": {
          "annotationdefaults": {
           "arrowcolor": "#2a3f5f",
           "arrowhead": 0,
           "arrowwidth": 1
          },
          "autotypenumbers": "strict",
          "coloraxis": {
           "colorbar": {
            "outlinewidth": 0,
            "ticks": ""
           }
          },
          "colorscale": {
           "diverging": [
            [
             0,
             "#8e0152"
            ],
            [
             0.1,
             "#c51b7d"
            ],
            [
             0.2,
             "#de77ae"
            ],
            [
             0.3,
             "#f1b6da"
            ],
            [
             0.4,
             "#fde0ef"
            ],
            [
             0.5,
             "#f7f7f7"
            ],
            [
             0.6,
             "#e6f5d0"
            ],
            [
             0.7,
             "#b8e186"
            ],
            [
             0.8,
             "#7fbc41"
            ],
            [
             0.9,
             "#4d9221"
            ],
            [
             1,
             "#276419"
            ]
           ],
           "sequential": [
            [
             0,
             "#0d0887"
            ],
            [
             0.1111111111111111,
             "#46039f"
            ],
            [
             0.2222222222222222,
             "#7201a8"
            ],
            [
             0.3333333333333333,
             "#9c179e"
            ],
            [
             0.4444444444444444,
             "#bd3786"
            ],
            [
             0.5555555555555556,
             "#d8576b"
            ],
            [
             0.6666666666666666,
             "#ed7953"
            ],
            [
             0.7777777777777778,
             "#fb9f3a"
            ],
            [
             0.8888888888888888,
             "#fdca26"
            ],
            [
             1,
             "#f0f921"
            ]
           ],
           "sequentialminus": [
            [
             0,
             "#0d0887"
            ],
            [
             0.1111111111111111,
             "#46039f"
            ],
            [
             0.2222222222222222,
             "#7201a8"
            ],
            [
             0.3333333333333333,
             "#9c179e"
            ],
            [
             0.4444444444444444,
             "#bd3786"
            ],
            [
             0.5555555555555556,
             "#d8576b"
            ],
            [
             0.6666666666666666,
             "#ed7953"
            ],
            [
             0.7777777777777778,
             "#fb9f3a"
            ],
            [
             0.8888888888888888,
             "#fdca26"
            ],
            [
             1,
             "#f0f921"
            ]
           ]
          },
          "colorway": [
           "#636efa",
           "#EF553B",
           "#00cc96",
           "#ab63fa",
           "#FFA15A",
           "#19d3f3",
           "#FF6692",
           "#B6E880",
           "#FF97FF",
           "#FECB52"
          ],
          "font": {
           "color": "#2a3f5f"
          },
          "geo": {
           "bgcolor": "white",
           "lakecolor": "white",
           "landcolor": "white",
           "showlakes": true,
           "showland": true,
           "subunitcolor": "#C8D4E3"
          },
          "hoverlabel": {
           "align": "left"
          },
          "hovermode": "closest",
          "mapbox": {
           "style": "light"
          },
          "paper_bgcolor": "white",
          "plot_bgcolor": "white",
          "polar": {
           "angularaxis": {
            "gridcolor": "#EBF0F8",
            "linecolor": "#EBF0F8",
            "ticks": ""
           },
           "bgcolor": "white",
           "radialaxis": {
            "gridcolor": "#EBF0F8",
            "linecolor": "#EBF0F8",
            "ticks": ""
           }
          },
          "scene": {
           "xaxis": {
            "backgroundcolor": "white",
            "gridcolor": "#DFE8F3",
            "gridwidth": 2,
            "linecolor": "#EBF0F8",
            "showbackground": true,
            "ticks": "",
            "zerolinecolor": "#EBF0F8"
           },
           "yaxis": {
            "backgroundcolor": "white",
            "gridcolor": "#DFE8F3",
            "gridwidth": 2,
            "linecolor": "#EBF0F8",
            "showbackground": true,
            "ticks": "",
            "zerolinecolor": "#EBF0F8"
           },
           "zaxis": {
            "backgroundcolor": "white",
            "gridcolor": "#DFE8F3",
            "gridwidth": 2,
            "linecolor": "#EBF0F8",
            "showbackground": true,
            "ticks": "",
            "zerolinecolor": "#EBF0F8"
           }
          },
          "shapedefaults": {
           "line": {
            "color": "#2a3f5f"
           }
          },
          "ternary": {
           "aaxis": {
            "gridcolor": "#DFE8F3",
            "linecolor": "#A2B1C6",
            "ticks": ""
           },
           "baxis": {
            "gridcolor": "#DFE8F3",
            "linecolor": "#A2B1C6",
            "ticks": ""
           },
           "bgcolor": "white",
           "caxis": {
            "gridcolor": "#DFE8F3",
            "linecolor": "#A2B1C6",
            "ticks": ""
           }
          },
          "title": {
           "x": 0.05
          },
          "xaxis": {
           "automargin": true,
           "gridcolor": "#EBF0F8",
           "linecolor": "#EBF0F8",
           "ticks": "",
           "title": {
            "standoff": 15
           },
           "zerolinecolor": "#EBF0F8",
           "zerolinewidth": 2
          },
          "yaxis": {
           "automargin": true,
           "gridcolor": "#EBF0F8",
           "linecolor": "#EBF0F8",
           "ticks": "",
           "title": {
            "standoff": 15
           },
           "zerolinecolor": "#EBF0F8",
           "zerolinewidth": 2
          }
         }
        },
        "title": {
         "text": "Objective Space (9 designs)"
        },
        "width": 800,
        "xaxis": {
         "anchor": "y",
         "domain": [
          0,
          1
         ],
         "range": [
          2.8,
          5.2
         ],
         "title": {
          "text": "Cost [$]"
         }
        },
        "yaxis": {
         "anchor": "x",
         "domain": [
          0,
          1
         ],
         "range": [
          -3.431591888080846,
          3.7899927516384446
         ],
         "title": {
          "text": "Perception Entropy [-]"
         }
        }
       }
      }
     },
     "metadata": {},
     "output_type": "display_data"
    }
   ],
   "source": [
    "g4r_problem.plot_tradespace(df)"
   ]
  },
  {
   "cell_type": "markdown",
   "id": "4a432448",
   "metadata": {},
   "source": [
    "## Set up the problem from json"
   ]
  },
  {
   "cell_type": "code",
   "execution_count": null,
   "id": "f3e8f9d7",
   "metadata": {},
   "outputs": [],
   "source": [
    "json_prolem_path = \"/Users/robosquiggles/Downloads/problem_Robot_20250429_185333.json\" # This will contain the prior design at problem.prior_bot\n",
    "\n",
    "problem_json_dict = json.load(open(json_prolem_path, 'r'))\n",
    "\n",
    "problem = g4r_problem.SensorPkgOptimization().from_json(problem_json_dict)\n",
    "\n",
    "prior_bot_from_problem = problem.prior_bot"
   ]
  },
  {
   "cell_type": "markdown",
   "id": "fb362a2e",
   "metadata": {},
   "source": [
    "## Plot any bot from the df above"
   ]
  },
  {
   "cell_type": "code",
   "execution_count": null,
   "id": "d5eeb543",
   "metadata": {},
   "outputs": [],
   "source": [
    "INDEX_TO_PLOT = 5\n",
    "\n",
    "design_dict = df[df[\"Index\"] == INDEX_TO_PLOT].iloc[0].to_dict()\n",
    "bot = problem.convert_1D_to_bot(design_dict)\n",
    "selected_fig = bot.plot_bot_3d(\n",
    "    perception_space=problem.perception_space,\n",
    "    show=False,\n",
    "    width=600,\n",
    ")"
   ]
  }
 ],
 "metadata": {
  "kernelspec": {
   "display_name": "blenv",
   "language": "python",
   "name": "python3"
  },
  "language_info": {
   "codemirror_mode": {
    "name": "ipython",
    "version": 3
   },
   "file_extension": ".py",
   "mimetype": "text/x-python",
   "name": "python",
   "nbconvert_exporter": "python",
   "pygments_lexer": "ipython3",
   "version": "3.11.10"
  }
 },
 "nbformat": 4,
 "nbformat_minor": 5
}
