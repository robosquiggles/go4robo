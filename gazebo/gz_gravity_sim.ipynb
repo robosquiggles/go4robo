{
 "cells": [
  {
   "cell_type": "markdown",
   "metadata": {},
   "source": [
    "> **NOTE:** To make sure that Gazebo picks up the server, run this notebook one cell at a time."
   ]
  },
  {
   "cell_type": "markdown",
   "metadata": {},
   "source": [
    "# Imports & Setup"
   ]
  },
  {
   "cell_type": "code",
   "execution_count": 1,
   "metadata": {},
   "outputs": [],
   "source": [
    "import subprocess\n",
    "import time\n",
    "# from gz.common5 import set_verbosity\n",
    "from gz.sim9 import TestFixture, World, world_entity\n",
    "from gz.sim9 import *\n",
    "from gz.math8 import Vector3d"
   ]
  },
  {
   "cell_type": "markdown",
   "metadata": {},
   "source": [
    "# Establish some helper functions"
   ]
  },
  {
   "cell_type": "code",
   "execution_count": 2,
   "metadata": {},
   "outputs": [],
   "source": [
    "def on_pre_udpate_cb(_info, _ecm):\n",
    "    global pre_iterations\n",
    "    global first_iteration\n",
    "    pre_iterations += 1\n",
    "    if first_iteration:\n",
    "        first_iteration = False\n",
    "        world_e = world_entity(_ecm)\n",
    "        print('World entity is ', world_e)\n",
    "        w = World(world_e)\n",
    "        v = w.gravity(_ecm)\n",
    "        print('Gravity ', v)\n",
    "        modelEntity = w.model_by_name(_ecm, 'falling')\n",
    "        print('Entity for falling model is: ', modelEntity)\n",
    "\n",
    "\n",
    "def on_udpate_cb(_info, _ecm):\n",
    "    global iterations\n",
    "    iterations += 1\n",
    "\n",
    "\n",
    "def on_post_udpate_cb(_info, _ecm):\n",
    "    global post_iterations\n",
    "    post_iterations += 1\n",
    "    if _info.sim_time.seconds == 1:\n",
    "        print('Post update sim time: ', _info.sim_time)\n"
   ]
  },
  {
   "cell_type": "markdown",
   "metadata": {},
   "source": [
    "# Load up and start the server\n",
    "\n",
    "> Run this, take a beat, and then run the next one. This allows the server to set up. Not sure why `time.sleep()` doesn't work here..."
   ]
  },
  {
   "cell_type": "code",
   "execution_count": 4,
   "metadata": {},
   "outputs": [],
   "source": [
    "post_iterations = 0\n",
    "iterations = 0\n",
    "pre_iterations = 0\n",
    "first_iteration = True\n",
    "\n",
    "fixture = TestFixture('gravity.sdf')\n",
    "\n",
    "fixture.on_post_update(on_post_udpate_cb)\n",
    "fixture.on_update(on_udpate_cb)\n",
    "fixture.on_pre_update(on_pre_udpate_cb)\n",
    "fixture.finalize()\n",
    "\n",
    "server = fixture.server()"
   ]
  },
  {
   "cell_type": "markdown",
   "metadata": {},
   "source": [
    "# GUI"
   ]
  },
  {
   "cell_type": "code",
   "execution_count": 3,
   "metadata": {},
   "outputs": [
    {
     "name": "stderr",
     "output_type": "stream",
     "text": [
      "2024-11-10 20:16:49.172 ruby[2103:24541] +[IMKClient subclass]: chose IMKClient_Modern\n",
      "2024-11-10 20:16:49.172 ruby[2103:24541] +[IMKInputSession subclass]: chose IMKInputSession_Modern\n"
     ]
    }
   ],
   "source": [
    "gui_process = subprocess.Popen([\"gz\", \"sim\", \"-v\", \"0\", \"-g\"])"
   ]
  },
  {
   "cell_type": "code",
   "execution_count": 5,
   "metadata": {},
   "outputs": [],
   "source": [
    "server_process = subprocess.Popen([\"gz\", \"sim\", \"-v\", \"0\", 'gravity.sdf', \"-s\"])"
   ]
  },
  {
   "cell_type": "markdown",
   "metadata": {},
   "source": [
    "# Run the simulation\n",
    "\n",
    "The cube should fall down!"
   ]
  },
  {
   "cell_type": "code",
   "execution_count": 6,
   "metadata": {},
   "outputs": [
    {
     "name": "stdout",
     "output_type": "stream",
     "text": [
      "World entity is  1\n",
      "Gravity  0 0 -9.8\n",
      "Entity for falling model is:  8\n",
      "Post update sim time:  0:00:01\n",
      "iterations  1000\n",
      "post_iterations  1000\n",
      "pre_iterations  1000\n"
     ]
    }
   ],
   "source": [
    "server.run(True, 1000, False)\n",
    "\n",
    "print('iterations ', iterations)\n",
    "print('post_iterations ', post_iterations)\n",
    "print('pre_iterations ', pre_iterations)"
   ]
  }
 ],
 "metadata": {
  "kernelspec": {
   "display_name": "gz_env",
   "language": "python",
   "name": "python3"
  },
  "language_info": {
   "codemirror_mode": {
    "name": "ipython",
    "version": 3
   },
   "file_extension": ".py",
   "mimetype": "text/x-python",
   "name": "python",
   "nbconvert_exporter": "python",
   "pygments_lexer": "ipython3",
   "version": "3.12.7"
  }
 },
 "nbformat": 4,
 "nbformat_minor": 2
}
